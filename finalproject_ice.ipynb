{
 "cells": [
  {
   "cell_type": "markdown",
   "metadata": {},
   "source": [
    "Please **submit this Jupyter notebook through Canvas** no later than **Friday December 14, 10:59**, before the start of the lecture.\n",
    "\n",
    "The final project is in **groups of three**, and you are expected to hand in original work. Work that is copied from another group will not be accepted.\n",
    "\n",
    "A single, jointly written report for each group is fine. All members in a group will receive the same grade."
   ]
  },
  {
   "cell_type": "markdown",
   "metadata": {},
   "source": [
    "# Exercise 0\n",
    "Write down the names + student ID of the people in your group."
   ]
  },
  {
   "cell_type": "markdown",
   "metadata": {},
   "source": [
    "Sietse Molenaar, $11072628$\n",
    "\n",
    "Loek Berkers, $11948302$\n",
    "\n",
    "Dennis de Voogt, $10695141$"
   ]
  },
  {
   "cell_type": "markdown",
   "metadata": {},
   "source": [
    "----\n",
    "# Project keywords\n",
    "Interpolation, least squares, optimization, nonlinear least squares"
   ]
  },
  {
   "cell_type": "markdown",
   "metadata": {},
   "source": [
    "----\n",
    "# Project description\n",
    "In this assignment,  we will explore methods for data fitting and interpolation. Given a dataset of some quantity at different moments in time, such methods can be used to predict future values as well as to compute values at past times where we do not have observations.\n",
    "\n",
    "Consider the following data set for Arctic sea ice minimum, an important climate signal. Arctic sea ice extent reaches a minimum every year in September. The data, obtained from NASA (see\n",
    "https://climate.nasa.gov/vital-signs/arctic-sea-ice/), shows the minimum sea ice extent reached in different years. \n",
    "In the table, $t$ denotes the year, $s$ denotes the sea ice extent in million square kilometers.\n",
    "\n",
    "The aim of this project is to explore various ways of fitting functions to this dataset, and see how well they perform and how robust they are."
   ]
  },
  {
   "cell_type": "code",
   "execution_count": 17,
   "metadata": {},
   "outputs": [],
   "source": [
    "import numpy as np\n",
    "import matplotlib.pyplot as plt\n",
    "from scipy.optimize import least_squares\n",
    "\n",
    "ice_times = np.array([1979, 1982, 1985, 1988, 1991, 1994, 1997, 2000, 2003, 2006, 2009, 2012, 2015, 2016], dtype=np.float64)\n",
    "ice_areas = np.array([7.00, 7.34, 6.79, 7.47, 6.46, 7.15, 6.85, 6.37, 6.21, 5.97, 5.31, 3.40, 4.59, 4.30], dtype=np.float64)"
   ]
  },
  {
   "cell_type": "code",
   "execution_count": null,
   "metadata": {},
   "outputs": [],
   "source": []
  },
  {
   "cell_type": "markdown",
   "metadata": {},
   "source": []
  },
  {
   "cell_type": "markdown",
   "metadata": {
    "collapsed": true
   },
   "source": [
    "## Exercise 2\n",
    "For constructing a polynomial interpolating function through the data, consider the following possible sets of basis functions: (a) the set $\\phi_j(t)=t^{j-1}$ (these are the regular monomials), (b) the set $\\phi_j(t)=(t-1978)^{j-1}$, (c) the set $\\phi_j(t)=((t-1998)/18)^{j-1}$. The index $j$ runs from 1 to $J$.\n",
    "\n",
    "What should be the value of $J$? For each of the sets of basis functions (a), (b), (c), compute the corresponding Vandermonde matrix. How do their condition numbers compare?"
   ]
  },
  {
   "cell_type": "code",
   "execution_count": 2,
   "metadata": {},
   "outputs": [
    {
     "name": "stdout",
     "output_type": "stream",
     "text": [
      "Condition numbers for the corresponding Vandermonde matrices \n",
      " 5.729006870130602e+59 \n",
      " 5.006985289782146e+23 \n",
      " 225102.97749679844\n"
     ]
    }
   ],
   "source": [
    "# Vandermonde matrices for polynomial 14\n",
    "vander1 = np.vander(ice_times, 14)\n",
    "vander2 = np.vander(ice_times - 1978, 14)\n",
    "vander3 = np.vander((ice_times-1998)/18, 14)\n",
    "\n",
    "print(\"Condition numbers for the corresponding Vandermonde matrices\", \"\\n\"\n",
    "      , np.linalg.cond(vander1),\"\\n\"\n",
    "      , np.linalg.cond(vander2),\"\\n\"\n",
    "      , np.linalg.cond(vander3))\n"
   ]
  },
  {
   "cell_type": "markdown",
   "metadata": {},
   "source": [
    "$J = 14$, the amount datapoints.\n",
    "\n",
    "\n"
   ]
  },
  {
   "cell_type": "markdown",
   "metadata": {
    "collapsed": true
   },
   "source": [
    "## Exercise 3\n",
    "Use the set of basis functions with the best conditioning and compute the interpolating function through the data in the table above. Show the coefficients of the interpolating function in a table. Plot the data points and the interpolating function in a single figure. Discuss the results.\n",
    "\n",
    "What values does this interpolating function predict for $t=1984$? What values for $t=2017$ and $t=2018$? Check the NASA website mentioned in the introduction to see how good these predictions are."
   ]
  },
  {
   "cell_type": "markdown",
   "metadata": {},
   "source": [
    "> The predicted values for the different years are shown below, together with a plot of the interpolated function. The prediction for $t = 1984$ is within expectations but the predicted values for $t = 2017, t = 2018$ are negative which should not be possible as we can not have a negative area of ice. Interpolation is a method used to construct data points within the known data range. A reason $2017$ and $2018$ deviate from the expected value so much, could be because they are outside the data range and are more prone to oscillations due to Runge's phenomonem"
   ]
  },
  {
   "cell_type": "code",
   "execution_count": 14,
   "metadata": {},
   "outputs": [
    {
     "name": "stdout",
     "output_type": "stream",
     "text": [
      "predicted ice area for t = 1984 is 5.113976036200571\n",
      "predicted ice area for t = 2017 is -0.13812550520081857\n",
      "predicted ice area for t = 2018 is -12.531946102898122\n"
     ]
    },
    {
     "data": {
      "image/png": "[encoded data removed]",
      "text/plain": [
       "<Figure size 432x288 with 1 Axes>"
      ]
     },
     "metadata": {
      "needs_background": "light"
     },
     "output_type": "display_data"
    },
    {
     "name": "stdout",
     "output_type": "stream",
     "text": [
      "    Coefficients\n",
      "0     850.102263\n",
      "1   -1123.276444\n",
      "2   -2199.944774\n",
      "3    3032.210505\n",
      "4    1859.988294\n",
      "5   -2890.298454\n",
      "6    -488.084507\n",
      "7    1175.502867\n",
      "8     -63.980790\n",
      "9    -194.921201\n",
      "10     35.306761\n",
      "11      8.581727\n",
      "12     -3.521939\n",
      "13      6.635692\n"
     ]
    }
   ],
   "source": [
    "import pandas as pd\n",
    "\n",
    "# get coefficients for the polynomial and cubic function\n",
    "coeff = np.linalg.solve(vander3, ice_areas)\n",
    "\n",
    "y_poly = []\n",
    "prediction_values = [1984, 2017, 2018]\n",
    "\n",
    "# x-values\n",
    "x = (ice_times-1998)/18\n",
    "\n",
    "# create the polynomial with coefficients\n",
    "pc = np.poly1d(coeff)\n",
    "\n",
    "# actual data from NASA website for the years we need to predict\n",
    "nasa_times = [1984, 2017, 2018]\n",
    "nasa_ice = [6.8, 4.8, 4.6]\n",
    "\n",
    "# create linspace\n",
    "lin = np.linspace(1979, 2018, 50000)\n",
    "\n",
    "for i in lin:\n",
    "    y3 = pc((i-1998)/18)\n",
    "    y_poly.append(y3)\n",
    "    \n",
    "\n",
    "# obtain predicted values for 1984, 2017, 2018\n",
    "for i in prediction_values:\n",
    "    y = pc((i-1998)/18)\n",
    "    print(\"predicted ice area for t = {} is {}\".format(i, y))\n",
    "    \n",
    "plt.plot(lin, y_poly, label = 'Interpolated function', c='r')\n",
    "plt.scatter(ice_times, ice_areas, label = 'Original Data')\n",
    "plt.scatter(nasa_times, nasa_ice, label = 'Data points from NASA website', c = 'g')\n",
    "plt.xlabel('Year')\n",
    "plt.ylabel('Sea ice area (million $km^2$)')\n",
    "plt.legend()\n",
    "plt.show()\n",
    "\n",
    "coeff_table = pd.DataFrame(coeff)\n",
    "coeff_table.columns = ['Coefficients']\n",
    "print(coeff_table)\n",
    "\n",
    "\n"
   ]
  },
  {
   "cell_type": "markdown",
   "metadata": {},
   "source": [
    "## Exercise 4\n",
    "How sensitive are the results to small changes in the data? To assess this, add (modest) random perturbations to the $s$ values in the dataset and recompute the interpolating function. Plot the new interpolating function together with the old one, and compare them. Also, use the new function to predict values for $t=1984$, $t=2016$ and $t=2017$, and compare these to the predictions you made before."
   ]
  },
  {
   "cell_type": "markdown",
   "metadata": {},
   "source": [
    " > For a more complete overview we plotted five versions of the perturbated interpolated function.\n",
    "While the plot still goes through the data points, the output outside the datapoints hugely differs.\n",
    "The results for the predictions for $t = 1984, t = 2016, t = 2017$ show this. While the $t = 1984$ prediction is inside the data points, as said before the oscillation is still of influence here."
   ]
  },
  {
   "cell_type": "code",
   "execution_count": 26,
   "metadata": {},
   "outputs": [
    {
     "name": "stdout",
     "output_type": "stream",
     "text": [
      "predicted ice area for t = 1984 is 5.021688890998879\n",
      "predicted ice area for t = 2016 is 4.368095462126206\n",
      "predicted ice area for t = 2017 is -0.342532632027595\n",
      "predicted ice area for t = 1984 is 4.989214098794324\n",
      "predicted ice area for t = 2016 is 4.360498789822474\n",
      "predicted ice area for t = 2017 is 1.3843511574710163\n",
      "predicted ice area for t = 1984 is 4.999588244641314\n",
      "predicted ice area for t = 2016 is 4.3021724994021255\n",
      "predicted ice area for t = 2017 is 1.7587482881604162\n",
      "predicted ice area for t = 1984 is 4.875442038391521\n",
      "predicted ice area for t = 2016 is 4.264557965223116\n",
      "predicted ice area for t = 2017 is 3.492187920863815\n",
      "predicted ice area for t = 1984 is 5.6659235655632\n",
      "predicted ice area for t = 2016 is 4.377344108348189\n",
      "predicted ice area for t = 2017 is -6.2193411659635744\n"
     ]
    },
    {
     "data": {
      "image/png": "[encoded data removed]",
      "text/plain": [
       "<Figure size 432x288 with 1 Axes>"
      ]
     },
     "metadata": {
      "needs_background": "light"
     },
     "output_type": "display_data"
    },
    {
     "name": "stdout",
     "output_type": "stream",
     "text": [
      "              0\n",
      "0    106.685928\n",
      "1   -895.115016\n",
      "2     -4.212221\n",
      "3   2379.853224\n",
      "4   -548.169336\n",
      "5  -2220.340425\n",
      "6    734.784656\n",
      "7    868.910136\n",
      "8   -356.661438\n",
      "9   -132.711929\n",
      "10    65.114581\n",
      "11     4.062198\n",
      "12    -4.498954\n",
      "13     6.675941\n"
     ]
    }
   ],
   "source": [
    "import pandas as pd\n",
    "\n",
    "# x-values\n",
    "x_p = (ice_times-1998)/18\n",
    "#create linspace\n",
    "lin = np.linspace(1979, 2018, 50000)\n",
    "\n",
    "\n",
    "for i in range(5):\n",
    "    np.random.seed(i)\n",
    "    ice_areas_p = np.random.uniform(-0.08, 0.08, len(ice_areas)) + ice_areas\n",
    "    vander3_p = np.vander((ice_times-1998)/18, 14)\n",
    "\n",
    "    y_poly_p = []\n",
    "\n",
    "    #print(ice_areas_p)\n",
    "\n",
    "    # get coefficients for the polynomial\n",
    "    coeff_p = np.linalg.solve(vander3_p, ice_areas_p)\n",
    "\n",
    "    # create the polynomial with coefficients\n",
    "    pc_p = np.poly1d(coeff_p)\n",
    "\n",
    "    for i in lin:\n",
    "        y3_p = pc_p((i-1998)/18)\n",
    "        y_poly_p.append(y3_p)\n",
    "\n",
    "    #obtain values for \n",
    "    for i in [1984, 2016, 2017]:\n",
    "        y_p = pc_p((i-1998)/18)\n",
    "        print(\"predicted ice area for t = {} is {}\".format(i, y_p))\n",
    "    \n",
    "    plt.plot(lin, y_poly_p, '--', label = 'Interpolated Function Pertubated', c = 'g')\n",
    "\n",
    "plt.plot(lin, y_poly, label = 'Interpolated function', c='r')    \n",
    "plt.scatter(ice_times, ice_areas_p, label = 'Original Data')\n",
    "plt.xlabel('Year')\n",
    "plt.ylabel('Sea ice area (million $km^2$)')\n",
    "plt.legend()\n",
    "plt.show()\n",
    "\n",
    "coeff_table_p = pd.DataFrame(coeff_p)\n",
    "print(coeff_table_p)"
   ]
  },
  {
   "cell_type": "markdown",
   "metadata": {},
   "source": [
    "## Exercise 5\n",
    "As an alternative to interpolation, one can use minimization (e.g. linear least squares) to fit a function to the data. Use linear least squares to fit a low-degree (e.g., quadratic or cubic) polynomial to the data in the table. Plot the resulting function together with the data. Make predictions for values at $t=1984$, $t=2017$ and $t=2018$. Compare the results to the results obtained before with interpolation.\n",
    "\n",
    "Explore the sensitivity of the least squares fit to changes in the data, in the same way as before."
   ]
  },
  {
   "cell_type": "code",
   "execution_count": 12,
   "metadata": {},
   "outputs": [
    {
     "name": "stderr",
     "output_type": "stream",
     "text": [
      "/anaconda3/lib/python3.7/site-packages/ipykernel_launcher.py:4: FutureWarning: `rcond` parameter will change to the default of machine precision times ``max(M, N)`` where M and N are the input matrix dimensions.\n",
      "To use the future default and silence this warning we advise to pass `rcond=None`, to keep using the old, explicitly pass `rcond=-1`.\n",
      "  after removing the cwd from sys.path.\n"
     ]
    },
    {
     "data": {
      "image/png": "[encoded data removed]",
      "text/plain": [
       "<Figure size 432x288 with 1 Axes>"
      ]
     },
     "metadata": {
      "needs_background": "light"
     },
     "output_type": "display_data"
    }
   ],
   "source": [
    "\n",
    "M = ice_times[:, np.newaxis] ** [0,1,2,3]\n",
    "\n",
    "p, res, rnk, s = np.linalg.lstsq(M, ice_areas)\n",
    "plt.plot(lin, p[0] + p[1]*lin + p[2]*lin**2 + p[3]*lin**3, 'r')\n",
    "plt.scatter(ice_times, ice_areas)\n",
    "plt.scatter(nasa_times, nasa_ice, c = 'g')\n",
    "plt.show()"
   ]
  },
  {
   "cell_type": "markdown",
   "metadata": {},
   "source": [
    "## Exercise 6\n",
    "\n",
    "Fitting a function using linear least squares can be sensitive to \"outliers\" in the data. As an example, create a single outlier by changing the data point for $t=2009$ from $s=5.31$ to $s=7.31$. Repeat the linear least squares fitting procedure. Discuss your results."
   ]
  },
  {
   "cell_type": "code",
   "execution_count": 13,
   "metadata": {},
   "outputs": [
    {
     "name": "stderr",
     "output_type": "stream",
     "text": [
      "/anaconda3/lib/python3.7/site-packages/ipykernel_launcher.py:5: FutureWarning: `rcond` parameter will change to the default of machine precision times ``max(M, N)`` where M and N are the input matrix dimensions.\n",
      "To use the future default and silence this warning we advise to pass `rcond=None`, to keep using the old, explicitly pass `rcond=-1`.\n",
      "  \"\"\"\n"
     ]
    },
    {
     "data": {
      "image/png": "[encoded data removed]",
      "text/plain": [
       "<Figure size 432x288 with 1 Axes>"
      ]
     },
     "metadata": {
      "needs_background": "light"
     },
     "output_type": "display_data"
    }
   ],
   "source": [
    "\n",
    "new_a = np.copy(ice_areas)\n",
    "new_a[10] = 7.31\n",
    "\n",
    "p, res, rnk, s = np.linalg.lstsq(M, new_a)\n",
    "plt.plot(lin, p[0] + p[1]*lin + p[2]*lin**2 + p[3]*lin**3, 'r')\n",
    "plt.scatter(ice_times, new_a)\n",
    "plt.scatter(nasa_times, nasa_ice)\n",
    "plt.show()"
   ]
  },
  {
   "cell_type": "markdown",
   "metadata": {},
   "source": [
    "## Exercise 7\n",
    "There may be more suitable functions to fit to these data than a polynomial. For example, predictions using a polynomial may give negative values, which would be unphysical. Can you think of a suitable function, and fit it to the data? What predictions does it give? If the function is nonlinear in its parameters, fitting it by least squares will give a _nonlinear least squares_ problem (see section 6.6 in the book by Heath). "
   ]
  },
  {
   "cell_type": "code",
   "execution_count": 19,
   "metadata": {},
   "outputs": [
    {
     "data": {
      "image/png": "[encoded data removed]",
      "text/plain": [
       "<Figure size 432x288 with 1 Axes>"
      ]
     },
     "metadata": {
      "needs_background": "light"
     },
     "output_type": "display_data"
    },
    {
     "name": "stdout",
     "output_type": "stream",
     "text": [
      "x0 estimate: 43.039951\n",
      "x1 estimate: -0.627030\n"
     ]
    }
   ],
   "source": [
    "# ice_areasi = 1 / ice_areas\n",
    "# m, c = np.linalg.lstsq(np.vstack([ice_times, np.ones(len(ice_areasi))]).T, ice_areasi)[0]\n",
    "\n",
    "# plt.plot(lin, 1 / (m * lin + c), 'r')\n",
    "# plt.scatter(ice_times, ice_areas)\n",
    "# plt.show()\n",
    "\n",
    "def fun(x, t, y=0):\n",
    "    return x[0] * np.power(t-1978, x[1]) - y\n",
    "\n",
    "res = least_squares(fun, (8, -0.1,), args=(ice_times[5:], ice_areas[5:],))\n",
    "\n",
    "plt.scatter(ice_times, ice_areas)\n",
    "plt.plot(lin, fun(res.x, lin))\n",
    "plt.ylim(0, 10)\n",
    "plt.show()\n",
    "\n",
    "\n",
    "print('x0 estimate: %f' % res.x[0])\n",
    "print('x1 estimate: %f' % res.x[1])"
   ]
  },
  {
   "cell_type": "code",
   "execution_count": null,
   "metadata": {},
   "outputs": [],
   "source": []
  }
 ],
 "metadata": {
  "kernelspec": {
   "display_name": "Python 3",
   "language": "python",
   "name": "python3"
  },
  "language_info": {
   "codemirror_mode": {
    "name": "ipython",
    "version": 3
   },
   "file_extension": ".py",
   "mimetype": "text/x-python",
   "name": "python",
   "nbconvert_exporter": "python",
   "pygments_lexer": "ipython3",
   "version": "3.7.0"
  }
 },
 "nbformat": 4,
 "nbformat_minor": 2
}
